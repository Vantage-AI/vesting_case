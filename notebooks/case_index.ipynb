{
 "cells": [
  {
   "cell_type": "markdown",
   "metadata": {},
   "source": [
    "# Vesting Ochtendcase Vantage AI\n",
    "## Het voorspellen van huizenprijzen voor Huispedia"
   ]
  },
  {
   "cell_type": "markdown",
   "metadata": {},
   "source": [
    "Werk een voor een door de volgende Notebooks heen\n",
    "- [Sprint 1](binder_test.ipynb)\n",
    "- [Sprint 2](binder_test_2.ipynb)\n",
    "\n",
    "Als je er niet uitkomt, vraag dan eerst een van je klasgenoten om hulp. Mochten jullie er samen niet uitkomen, staan hier de antwoorden.\n",
    "- [Sprint 1](binder_test.ipynb)\n",
    "- [Sprint 2](binder_test_2.ipynb)"
   ]
  },
  {
   "cell_type": "markdown",
   "metadata": {},
   "source": [
    "![](https://media.licdn.com/dms/image/C560BAQGU0kJpctk2EA/company-logo_400_400/0?e=1583366400&v=beta&t=naQT5XifszGZeREaZwELI4WVjhAuq-2ikrPXfWGdoD4)"
   ]
  },
  {
   "cell_type": "code",
   "execution_count": null,
   "metadata": {},
   "outputs": [],
   "source": []
  }
 ],
 "metadata": {
  "kernelspec": {
   "display_name": "Python [conda env:vesting] *",
   "language": "python",
   "name": "conda-env-vesting-py"
  },
  "language_info": {
   "codemirror_mode": {
    "name": "ipython",
    "version": 3
   },
   "file_extension": ".py",
   "mimetype": "text/x-python",
   "name": "python",
   "nbconvert_exporter": "python",
   "pygments_lexer": "ipython3",
   "version": "3.7.5"
  }
 },
 "nbformat": 4,
 "nbformat_minor": 2
}

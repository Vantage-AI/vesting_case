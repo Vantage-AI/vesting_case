{
 "cells": [
  {
   "cell_type": "markdown",
   "metadata": {},
   "source": [
    "# Vesting Morning Case Vantage AI\n",
    "## Predicting house prices for Huispedia"
   ]
  },
  {
   "cell_type": "markdown",
   "metadata": {},
   "source": [
    "Just to show that this works, select one of the following Notebooks:\n",
    "- [SciKit-Learn demo](scikit-learn_demo.ipynb)\n",
    "- [Index works demo](index_works.ipynb)\n",
    "\n",
    "Soon, this will be filled with different Notebooks. If you can't figure out the answer, try and ask one of your classmates. If you can't figure it out together, you can find the 'answers' (though there never really is just one answer in machine learning) below:\n",
    "- [Sprint 1 - Answers](scikit-learn_demo.ipynb)\n",
    "- [Sprint 2 - Answers](index_works.ipynb)"
   ]
  },
  {
   "cell_type": "markdown",
   "metadata": {},
   "source": [
    "![](https://media.licdn.com/dms/image/C560BAQGU0kJpctk2EA/company-logo_400_400/0?e=1583366400&v=beta&t=naQT5XifszGZeREaZwELI4WVjhAuq-2ikrPXfWGdoD4)"
   ]
  }
 ],
 "metadata": {
  "kernelspec": {
   "display_name": "Python [conda env:vesting] *",
   "language": "python",
   "name": "conda-env-vesting-py"
  },
  "language_info": {
   "codemirror_mode": {
    "name": "ipython",
    "version": 3
   },
   "file_extension": ".py",
   "mimetype": "text/x-python",
   "name": "python",
   "nbconvert_exporter": "python",
   "pygments_lexer": "ipython3",
   "version": "3.7.5"
  }
 },
 "nbformat": 4,
 "nbformat_minor": 2
}
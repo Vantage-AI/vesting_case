{
 "cells": [
  {
   "cell_type": "markdown",
   "metadata": {},
   "source": [
    "# Vesting Morning Case Vantage AI\n",
    "## Predicting house prices for Huispedia"
   ]
  },
  {
   "cell_type": "markdown",
   "metadata": {},
   "source": [
    "For your reference: [the slides](slides.ipynb).\n",
    "\n",
    "For each sprint, work through one of the following Notebooks in order:\n",
    "- [Sprint 1 - Exploratory Data Analysis](sprint_1.ipynb)\n",
    "- [Sprint 2 - Simple model](sprint_2.ipynb)\n",
    "- [Sprint 3 - Advanced model](sprint_3.ipynb)\n",
    "\n",
    "\n",
    "If there's something you can't figure out, try and ask one of your classmates. If you can't figure it out together, you can find the 'answers' (though there never really is just one answer in data science) below:\n",
    "- [Answers Sprint 1](sprint_1_answers.ipynb)\n",
    "- [Answers Sprint 2](sprint_2_answers.ipynb)\n",
    "- [Answers Sprint 3](sprint_3_answers.ipynb)"
   ]
  },
  {
   "cell_type": "markdown",
   "metadata": {},
   "source": [
    "![](https://media.licdn.com/dms/image/C560BAQGU0kJpctk2EA/company-logo_400_400/0?e=1583366400&v=beta&t=naQT5XifszGZeREaZwELI4WVjhAuq-2ikrPXfWGdoD4)"
   ]
  }
 ],
 "metadata": {
  "kernelspec": {
   "display_name": "Python [conda env:vesting] *",
   "language": "python",
   "name": "conda-env-vesting-py"
  },
  "language_info": {
   "codemirror_mode": {
    "name": "ipython",
    "version": 3
   },
   "file_extension": ".py",
   "mimetype": "text/x-python",
   "name": "python",
   "nbconvert_exporter": "python",
   "pygments_lexer": "ipython3",
   "version": "3.7.5"
  }
 },
 "nbformat": 4,
 "nbformat_minor": 2
}

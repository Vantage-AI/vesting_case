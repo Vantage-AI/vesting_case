{
 "cells": [
  {
   "cell_type": "markdown",
   "metadata": {},
   "source": [
    "# Sprint 2"
   ]
  },
  {
   "cell_type": "markdown",
   "metadata": {},
   "source": [
    "## Goal\n",
    "\n",
    "The goal for this sprint is to quickly develop a first model, so your client (Huispedia) has something concrete they can provide you feedback on.\n",
    "\n",
    "Some questions you may want to ask:\n",
    "- What type of problem is this?\n",
    "- What model may be well-suited for this type of problem?\n",
    "- What features do you add?\n",
    "- How can we evaluate, in a fair way, how well our model is doing?"
   ]
  },
  {
   "cell_type": "markdown",
   "metadata": {},
   "source": [
    "## Imports"
   ]
  },
  {
   "cell_type": "markdown",
   "metadata": {},
   "source": [
    "We'll need some packages to build a model. SciKit-Learn is very extensive, but we'll start fairly simple."
   ]
  },
  {
   "cell_type": "code",
   "execution_count": null,
   "metadata": {},
   "outputs": [],
   "source": [
    "import numpy as np\n",
    "import pandas as pd\n",
    "import matplotlib.pyplot as plt\n",
    "import seaborn as sns\n",
    "\n",
    "from sklearn.model_selection import train_test_split\n",
    "from sklearn import linear_model\n",
    "from sklearn.metrics import mean_squared_error\n",
    "\n",
    "sns.set() # For aesthetic purposes\n",
    "np.random.seed(42) # So all our results will be the same"
   ]
  },
  {
   "cell_type": "markdown",
   "metadata": {},
   "source": [
    "## Load data"
   ]
  },
  {
   "cell_type": "markdown",
   "metadata": {},
   "source": [
    "Let's load the data in again, and split it into `X` (our features) and `y` (our target variable)."
   ]
  },
  {
   "cell_type": "code",
   "execution_count": null,
   "metadata": {},
   "outputs": [],
   "source": [
    "# Training data\n",
    "df_train = pd.read_csv(\"../data/train.csv\").set_index('Id')\n",
    "y = df_train['SalePrice']\n",
    "X = df_train.drop(['SalePrice'], axis=1)"
   ]
  },
  {
   "cell_type": "markdown",
   "metadata": {},
   "source": [
    "This next step is very important. If you've built models before, this is obvious, but I cannot stress this enough. When we train a model on our data, the model will learn to fit those data as well as possible. But how can we know if the model that we found will also work well on _new_ data? That's what these train/test splits are for.\n",
    "\n",
    "We keep a portion of our data — the 'test set' — separate, and once we've trained our model on the rest — the train set — we evaluate how well our model actually performs, by looking at how well it performs on the test set. That way, we can make a good estimate of how well the model will perform on unseen data."
   ]
  },
  {
   "cell_type": "markdown",
   "metadata": {},
   "source": [
    "**Here, I use a test set size of 20% of our data. What would happen if we'd make this number much larger or smaller?**"
   ]
  },
  {
   "cell_type": "code",
   "execution_count": null,
   "metadata": {},
   "outputs": [],
   "source": [
    "X_train, X_test, y_train, y_test = train_test_split(X, y, test_size=0.20, random_state=42)"
   ]
  },
  {
   "cell_type": "markdown",
   "metadata": {},
   "source": [
    "## Selecting features"
   ]
  },
  {
   "cell_type": "markdown",
   "metadata": {},
   "source": [
    "Here, I use the features we found during the first sprint. It's amazing how quickly you can find the features that are worthwhile if you just spend some time getting acquainted with the data, rather than building a model immediately!"
   ]
  },
  {
   "cell_type": "code",
   "execution_count": null,
   "metadata": {},
   "outputs": [],
   "source": [
    "selected_features = ['OverallQual', 'GrLivArea', 'GarageCars', 'TotalBsmtSF', 'FullBath', 'YearBuilt']"
   ]
  },
  {
   "cell_type": "code",
   "execution_count": null,
   "metadata": {},
   "outputs": [],
   "source": [
    "X_train = X_train[selected_features]\n",
    "X_test = X_test[selected_features]"
   ]
  },
  {
   "cell_type": "markdown",
   "metadata": {},
   "source": [
    "Now, the moment you've all been waiting for... we're going train our first model! Are you ready..?"
   ]
  },
  {
   "cell_type": "code",
   "execution_count": null,
   "metadata": {},
   "outputs": [],
   "source": [
    "# Getting our model, leaving all default parameter settings...\n",
    "model = linear_model.LinearRegression()\n",
    "# Wait for it...\n",
    "model.fit(X_train, y_train);\n",
    "# Presto!"
   ]
  },
  {
   "cell_type": "markdown",
   "metadata": {},
   "source": [
    "That's all! That's how simple it is to train a machine learning model in SciKit-Learn. If you want to experiment with different models, all you have to do (in most cases) is replace the line that defines `model` above. You can check SciKit-Learn's [documentation](https://scikit-learn.org/stable/supervised_learning.html#supervised-learning) to find out what other models are available.\n",
    "\n",
    "Now let's see how well we did."
   ]
  },
  {
   "cell_type": "markdown",
   "metadata": {},
   "source": [
    "## Checking our performance"
   ]
  },
  {
   "cell_type": "markdown",
   "metadata": {},
   "source": [
    "As mentioned earlier, we want to evaluate our performance on the data our model hasn't seen yet. That's what X_test is for. The code below will use the trained model (which is now stored in `model` to make predictions for the data stored in `X_test`, and save those predicted values in `y_hat`, our predicted prices."
   ]
  },
  {
   "cell_type": "code",
   "execution_count": null,
   "metadata": {},
   "outputs": [],
   "source": [
    "y_hat = model.predict(X_test)"
   ]
  },
  {
   "cell_type": "markdown",
   "metadata": {},
   "source": [
    "Then, we just compare those predicted prices to the real prices, and we get our performance! Here, I use the RMSE to get a sense of our performance\n",
    "\n",
    "**Does RMSE make sense here? Why (not)?**"
   ]
  },
  {
   "cell_type": "code",
   "execution_count": null,
   "metadata": {},
   "outputs": [],
   "source": [
    "print(f\"RMSE: €{np.sqrt(mean_squared_error(y_test, y_hat)):.2f}\")"
   ]
  },
  {
   "cell_type": "markdown",
   "metadata": {},
   "source": [
    "So we're about €40.000,- off on average. Given how expensive houses are, that's  not bad! Let's add a quick scatter plot to see how well we did..."
   ]
  },
  {
   "cell_type": "code",
   "execution_count": null,
   "metadata": {
    "scrolled": false
   },
   "outputs": [],
   "source": [
    "sns.scatterplot(y_test, y_hat);"
   ]
  },
  {
   "cell_type": "markdown",
   "metadata": {},
   "source": [
    "Not too shabby! It's not quite perfect, but clearly close. It seems our errors are further off for the more expensive houses... let's see if that's true."
   ]
  },
  {
   "cell_type": "code",
   "execution_count": null,
   "metadata": {},
   "outputs": [],
   "source": [
    "result = pd.DataFrame({'y_test': y_test, 'y_hat': y_hat})\n",
    "result['error'] = result['y_test'] - result['y_hat']\n",
    "sns.scatterplot(result['y_test'], result['error']);"
   ]
  },
  {
   "cell_type": "markdown",
   "metadata": {},
   "source": [
    "Our hunch was correct: for (relatively) cheap houses, up to about $ $300.000,-, we do quite well. After that, our errors get pretty big (up to about 50% of the value of the house!).\n",
    "\n",
    "**Why did this happen? And can we fix it?**"
   ]
  },
  {
   "cell_type": "markdown",
   "metadata": {},
   "source": [
    "**If you have more time, feel free to try using a different model! You can find the SciKit-Learn documentation [here](https://scikit-learn.org/stable/supervised_learning.html#supervised-learning).**"
   ]
  }
 ],
 "metadata": {
  "kernelspec": {
   "display_name": "Python [conda env:vesting] *",
   "language": "python",
   "name": "conda-env-vesting-py"
  },
  "language_info": {
   "codemirror_mode": {
    "name": "ipython",
    "version": 3
   },
   "file_extension": ".py",
   "mimetype": "text/x-python",
   "name": "python",
   "nbconvert_exporter": "python",
   "pygments_lexer": "ipython3",
   "version": "3.7.5"
  }
 },
 "nbformat": 4,
 "nbformat_minor": 2
}

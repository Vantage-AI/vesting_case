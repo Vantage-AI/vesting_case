{
 "cells": [
  {
   "cell_type": "markdown",
   "metadata": {
    "slideshow": {
     "slide_type": "slide"
    }
   },
   "source": [
    "# Vesting Morning Case\n",
    "_Predicting house prices with Vantage AI_\n",
    "<img src=\"https://vantage-ai.com/vantage/img/vantage-ai-logo.svg\" alt=\"Vantage AI logo\" style=\"width:300px;\"/>"
   ]
  },
  {
   "cell_type": "markdown",
   "metadata": {
    "slideshow": {
     "slide_type": "slide"
    }
   },
   "source": [
    "## Overview\n",
    "- Introduction\n",
    "- The case\n",
    "- Three sprints\n",
    "- Presentations"
   ]
  },
  {
   "cell_type": "markdown",
   "metadata": {
    "slideshow": {
     "slide_type": "subslide"
    }
   },
   "source": [
    "### Before we begin...\n",
    "\n",
    "Let's get everything ready for the hands-on.\n",
    "1. Go to [bit.ly/VestingCase](http://bit.ly/VestingCase)\n",
    "2. Click \"Launch Binder\"\n",
    "3. ...\n",
    "4. Profit.\n",
    "![](https://camo.githubusercontent.com/483bae47a175c24dfbfc57390edd8b6982ac5fb3/68747470733a2f2f6d7962696e6465722e6f72672f62616467655f6c6f676f2e737667)"
   ]
  },
  {
   "cell_type": "markdown",
   "metadata": {
    "slideshow": {
     "slide_type": "slide"
    }
   },
   "source": [
    "## Introduction"
   ]
  },
  {
   "cell_type": "markdown",
   "metadata": {
    "slideshow": {
     "slide_type": "subslide"
    }
   },
   "source": [
    "### Who am I?\n"
   ]
  },
  {
   "cell_type": "markdown",
   "metadata": {
    "slideshow": {
     "slide_type": "fragment"
    }
   },
   "source": [
    "- **2010 - 2012**: Aerospace Engineering _(60EC, TU Delft)_\n",
    "- **2013**: Italian Language and Culture _(B2-level, Università per Stranieri di Perugia)_\n",
    "- **2014 - 2015**: BSc Liberal Arts and Sciences _(UCR)_\n",
    "- **2016 - 2018**: MSc Artificial Intelligence _(UU)_"
   ]
  },
  {
   "cell_type": "markdown",
   "metadata": {
    "slideshow": {
     "slide_type": "fragment"
    }
   },
   "source": [
    "- **2017 - 2018**: Data science traineeship (Xomnia)\n",
    "    - Data scientist at KLM"
   ]
  },
  {
   "cell_type": "markdown",
   "metadata": {
    "slideshow": {
     "slide_type": "fragment"
    }
   },
   "source": [
    "- **2019 - now**: data scientist at Vantage AI\n",
    "    - Currently working at ProRail"
   ]
  },
  {
   "cell_type": "markdown",
   "metadata": {
    "slideshow": {
     "slide_type": "subslide"
    }
   },
   "source": [
    "### Vantage AI"
   ]
  },
  {
   "cell_type": "markdown",
   "metadata": {
    "slideshow": {
     "slide_type": "fragment"
    }
   },
   "source": [
    "- Three-year program to Senior/Lead Data Scientist\n",
    "- Many different clients\n",
    "- Strong focus on learning\n",
    "- My favorite part?\n",
    "\n",
    "\n",
    "<img src=\"https://vantage-ai.com/vantage/img/vantage-ai-logo.svg\" alt=\"Vantage AI logo\" style=\"width:300px;\"/>"
   ]
  },
  {
   "cell_type": "markdown",
   "metadata": {
    "slideshow": {
     "slide_type": "slide"
    }
   },
   "source": [
    "## The Case"
   ]
  },
  {
   "cell_type": "markdown",
   "metadata": {
    "slideshow": {
     "slide_type": "fragment"
    }
   },
   "source": [
    "- Predicting house prices\n",
    "- True Story! [Huispedia.](https://huispedia.nl/groningen/9718me/rubensstraat/72)\n",
    "<img src=\"https://huispedia.nl/img/core/logo/huispedia_logo.svg\" alt=\"Huispedia logo\" style=\"width:250px;\"/>\n"
   ]
  },
  {
   "cell_type": "markdown",
   "metadata": {
    "slideshow": {
     "slide_type": "fragment"
    }
   },
   "source": [
    "- Work in teams! More fun, and more effective\n",
    "- Work in sprints: iteratively improve upon your results\n",
    "- Pitch your results at the end\n",
    "    - One minute\n",
    "    - Best pitch wins a prize 🏆"
   ]
  },
  {
   "cell_type": "markdown",
   "metadata": {
    "slideshow": {
     "slide_type": "subslide"
    }
   },
   "source": [
    "### Requirements"
   ]
  },
  {
   "cell_type": "markdown",
   "metadata": {
    "slideshow": {
     "slide_type": "fragment"
    }
   },
   "source": [
    "- Python\n",
    "    - Everyone outside of academia uses it... sorry, R.\n",
    "- Jupyter Notebook\n",
    "    - The environment you're currently seeing. Allows you to mix code, text, images, plots, etc.\n",
    "- Google, documentation, and StackOverflow\n",
    "    - Every programmer's best friends. If you can't figure something out: Google it!\n",
    "- Teammates\n",
    "    - Together, you can figure out a lot more"
   ]
  },
  {
   "cell_type": "code",
   "execution_count": 1,
   "metadata": {
    "slideshow": {
     "slide_type": "fragment"
    }
   },
   "outputs": [
    {
     "name": "stdout",
     "output_type": "stream",
     "text": [
      "Hello, John!\n"
     ]
    }
   ],
   "source": [
    "# Example of running code\n",
    "name = \"John\"\n",
    "print(f\"Hello, {name}!\")"
   ]
  },
  {
   "cell_type": "code",
   "execution_count": null,
   "metadata": {
    "slideshow": {
     "slide_type": "subslide"
    }
   },
   "outputs": [],
   "source": [
    "# Smarter, more efficient arrays\n",
    "import numpy as np"
   ]
  },
  {
   "cell_type": "code",
   "execution_count": null,
   "metadata": {
    "slideshow": {
     "slide_type": "fragment"
    }
   },
   "outputs": [],
   "source": [
    "# R-like DataFrames for Python\n",
    "import pandas as pd"
   ]
  },
  {
   "cell_type": "code",
   "execution_count": null,
   "metadata": {
    "slideshow": {
     "slide_type": "fragment"
    }
   },
   "outputs": [],
   "source": [
    "# Plotting library\n",
    "import matplotlib.pyplot as plt\n",
    "\n",
    "# Nicer plotting library, extends matplotlib\n",
    "import seaborn as sns"
   ]
  },
  {
   "cell_type": "code",
   "execution_count": null,
   "metadata": {
    "slideshow": {
     "slide_type": "fragment"
    }
   },
   "outputs": [],
   "source": [
    "# Most common basic Machine Learning toolkit\n",
    "import sklearn"
   ]
  },
  {
   "cell_type": "code",
   "execution_count": null,
   "metadata": {
    "slideshow": {
     "slide_type": "fragment"
    }
   },
   "outputs": [],
   "source": [
    "# Microsoft's more advanced Gradient Boosting package\n",
    "import lightgbm as lgb"
   ]
  },
  {
   "cell_type": "markdown",
   "metadata": {
    "slideshow": {
     "slide_type": "slide"
    }
   },
   "source": [
    "## Sprint 1"
   ]
  },
  {
   "cell_type": "markdown",
   "metadata": {
    "slideshow": {
     "slide_type": "fragment"
    }
   },
   "source": [
    "### Goal\n",
    "The goal for this sprint is for your team to get to know the data, and get (somewhat) familiar with Python syntax.\n",
    "\n",
    "Some questions you may want to ask:\n",
    "- How are the prices distributed?\n",
    "- How many missing values are there?\n",
    "- What features may be interesting, intuitively?\n",
    "- What features show promising correlation?\n",
    "- Can we construct new features based on the existing ones?"
   ]
  },
  {
   "cell_type": "markdown",
   "metadata": {
    "slideshow": {
     "slide_type": "subslide"
    }
   },
   "source": [
    "### Sprint 1 Review\n",
    "How did it go? Did you find anything interesting? Do the data make sense? Any Python questions that might be interesting for everyone?"
   ]
  },
  {
   "cell_type": "markdown",
   "metadata": {
    "slideshow": {
     "slide_type": "slide"
    }
   },
   "source": [
    "## Sprint 2"
   ]
  },
  {
   "cell_type": "markdown",
   "metadata": {
    "slideshow": {
     "slide_type": "fragment"
    }
   },
   "source": [
    "### Goal\n",
    "\n",
    "The goal for this sprint is to quickly develop a first model, so your client (Huispedia) has something concrete they can provide feedback on.\n",
    "\n",
    "Some questions you may want to ask:\n",
    "- What type of problem is this?\n",
    "- What model may be well-suited for this type of problem?\n",
    "- What features do you add?\n",
    "- How can we evaluate, in a fair way, how well our model is doing?"
   ]
  },
  {
   "cell_type": "markdown",
   "metadata": {
    "slideshow": {
     "slide_type": "subslide"
    }
   },
   "source": [
    "### Sprint 2 Review\n",
    "How did it go? What features did you decide to use? What performance did you get in the end?"
   ]
  },
  {
   "cell_type": "markdown",
   "metadata": {
    "slideshow": {
     "slide_type": "slide"
    }
   },
   "source": [
    "## Sprint 3"
   ]
  },
  {
   "cell_type": "markdown",
   "metadata": {
    "slideshow": {
     "slide_type": "fragment"
    }
   },
   "source": [
    "### Goal\n",
    "The goal for this sprint is develop a more complex model, and see if that performs better than your simple one.\n",
    "\n",
    "Some questions you may want to ask:\n",
    "- Can we improve upon the performance of the simple model? By how much?\n",
    "- Is the more advanced model better in every way? Or are there certain trade-offs?\n",
    "- Can we add something other than better performance? E.g. confidence intervals?"
   ]
  },
  {
   "cell_type": "markdown",
   "metadata": {
    "slideshow": {
     "slide_type": "subslide"
    }
   },
   "source": [
    "### Sprint 3 Review\n",
    "How did it go? Did the complex model work much better? What else did you notice?"
   ]
  },
  {
   "cell_type": "markdown",
   "metadata": {
    "slideshow": {
     "slide_type": "slide"
    }
   },
   "source": [
    "## Time for pitches!"
   ]
  },
  {
   "cell_type": "markdown",
   "metadata": {
    "slideshow": {
     "slide_type": "fragment"
    }
   },
   "source": [
    "Now that you have all trained a final model, tell the rest what you found, and what you did with those findings... and why!\n",
    "\n",
    "Best pitch wins a prize 🏆\n",
    "\n",
    "You now have **ten minutes** to prepare a **one-minute pitch**...\n",
    "\n",
    "### GO!"
   ]
  },
  {
   "cell_type": "markdown",
   "metadata": {
    "slideshow": {
     "slide_type": "subslide"
    }
   },
   "source": [
    "## And the winner is..."
   ]
  },
  {
   "cell_type": "markdown",
   "metadata": {
    "slideshow": {
     "slide_type": "slide"
    }
   },
   "source": [
    "## Thank you!\n",
    "- Find me during lunch for any questions, or send me an e-mail at [jasper.makkinje@vantage-ai.com](mailto:jasper.makkinje@vantage-ai.com)\n",
    "- Follow us on LinkedIn: [linkedin.com/company/vantage-ai/](https://www.linkedin.com/company/vantage-ai/)"
   ]
  }
 ],
 "metadata": {
  "celltoolbar": "Slideshow",
  "kernelspec": {
   "display_name": "Python [conda env:vesting] *",
   "language": "python",
   "name": "conda-env-vesting-py"
  },
  "language_info": {
   "codemirror_mode": {
    "name": "ipython",
    "version": 3
   },
   "file_extension": ".py",
   "mimetype": "text/x-python",
   "name": "python",
   "nbconvert_exporter": "python",
   "pygments_lexer": "ipython3",
   "version": "3.7.5"
  }
 },
 "nbformat": 4,
 "nbformat_minor": 2
}
